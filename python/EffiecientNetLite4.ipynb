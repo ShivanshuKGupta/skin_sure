{
 "cells": [
  {
   "cell_type": "code",
   "execution_count": null,
   "metadata": {
    "id": "plvO-YmcQn5g"
   },
   "outputs": [],
   "source": [
    "!python --version\n",
    "!pip install --upgrade pip\n",
    "!pip install mediapipe-model-maker"
   ]
  },
  {
   "cell_type": "code",
   "execution_count": null,
   "metadata": {
    "id": "cG2McL-NEOpI"
   },
   "outputs": [],
   "source": [
    "# from google.colab import files\n",
    "import os\n",
    "import tensorflow as tf\n",
    "assert tf.__version__.startswith('2')\n",
    "from mediapipe_model_maker import image_classifier\n",
    "import matplotlib.pyplot as plt"
   ]
  },
  {
   "cell_type": "code",
   "execution_count": null,
   "metadata": {
    "id": "5Eu0PHlOWcvc"
   },
   "outputs": [],
   "source": [
    "image_path = os.path.join(\".\", 'data')"
   ]
  },
  {
   "cell_type": "code",
   "execution_count": null,
   "metadata": {
    "id": "65jYI0XtyiJC"
   },
   "outputs": [],
   "source": [
    "print(image_path)\n",
    "labels = []\n",
    "for i in os.listdir(image_path):\n",
    "  if os.path.isdir(os.path.join(image_path, i)):\n",
    "    labels.append(i)\n",
    "print(labels)"
   ]
  },
  {
   "cell_type": "code",
   "execution_count": null,
   "metadata": {
    "id": "Cqj6ydhnGsgy"
   },
   "outputs": [],
   "source": [
    "NUM_EXAMPLES = 5\n",
    "\n",
    "for label in labels:\n",
    "  label_dir = os.path.join(image_path, label)\n",
    "  example_filenames = os.listdir(label_dir)[:NUM_EXAMPLES]\n",
    "  fig, axs = plt.subplots(1, NUM_EXAMPLES, figsize=(10,2))\n",
    "  for i in range(NUM_EXAMPLES):\n",
    "    axs[i].imshow(plt.imread(os.path.join(label_dir, example_filenames[i])))\n",
    "    axs[i].get_xaxis().set_visible(False)\n",
    "    axs[i].get_yaxis().set_visible(False)\n",
    "  fig.suptitle(f'Showing {NUM_EXAMPLES} examples for {label}')\n",
    "\n",
    "plt.show()"
   ]
  },
  {
   "cell_type": "code",
   "execution_count": null,
   "metadata": {
    "id": "uELMchkggUMP"
   },
   "outputs": [],
   "source": [
    "data = image_classifier.Dataset.from_folder(image_path)\n",
    "train_data, remaining_data = data.split(0.8)\n",
    "\n",
    "test_data, validation_data = remaining_data.split(0.5)\n",
    "\n",
    "print(f\"{len(data)=}\")\n",
    "print(f\"{len(train_data)=}\")\n",
    "print(f\"{len(remaining_data)=}\")"
   ]
  },
  {
   "cell_type": "code",
   "execution_count": null,
   "metadata": {
    "id": "2B0sz4PTMUVZ"
   },
   "outputs": [],
   "source": [
    "spec = image_classifier.SupportedModels.EFFICIENTNET_LITE4\n",
    "hparams = image_classifier.HParams(export_dir=\"exported_model\", )\n",
    "options = image_classifier.ImageClassifierOptions(supported_model=spec, hparams=hparams)"
   ]
  },
  {
   "cell_type": "code",
   "execution_count": null,
   "metadata": {
    "id": "CkbUY97gNP2h"
   },
   "outputs": [],
   "source": [
    "model = image_classifier.ImageClassifier.create(\n",
    "    train_data = train_data,\n",
    "    validation_data = validation_data,\n",
    "    options=options,\n",
    ")"
   ]
  },
  {
   "cell_type": "code",
   "execution_count": null,
   "metadata": {
    "id": "_wjMzqWZQ9oV"
   },
   "outputs": [],
   "source": [
    "model = tf.keras.models.load_model(\"exported_model/model.tflite\")\n",
    "loss, acc = model.evaluate(test_data)\n",
    "print(f'Test loss:{loss}, Test accuracy:{acc}')"
   ]
  },
  {
   "cell_type": "code",
   "execution_count": null,
   "metadata": {
    "id": "7sGv08Knh3_D"
   },
   "outputs": [],
   "source": [
    "model.export_model()"
   ]
  },
  {
   "cell_type": "code",
   "execution_count": null,
   "metadata": {
    "id": "6hKOJXwH57bL"
   },
   "outputs": [],
   "source": [
    "!ls exported_model"
   ]
  }
 ],
 "metadata": {
  "colab": {
   "name": "MediaPipe Model Maker Image Classifier Demo.ipynb",
   "private_outputs": true,
   "provenance": [],
   "toc_visible": true
  },
  "kernelspec": {
   "display_name": "myenv",
   "language": "python",
   "name": "python3"
  },
  "language_info": {
   "codemirror_mode": {
    "name": "ipython",
    "version": 3
   },
   "file_extension": ".py",
   "mimetype": "text/x-python",
   "name": "python",
   "nbconvert_exporter": "python",
   "pygments_lexer": "ipython3",
   "version": "3.10.12"
  }
 },
 "nbformat": 4,
 "nbformat_minor": 0
}
